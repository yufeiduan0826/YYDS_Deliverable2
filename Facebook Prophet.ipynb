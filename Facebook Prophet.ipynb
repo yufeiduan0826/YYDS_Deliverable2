{
 "cells": [
  {
   "cell_type": "markdown",
   "id": "63239047",
   "metadata": {},
   "source": [
    "## Daily\n"
   ]
  },
  {
   "cell_type": "markdown",
   "id": "c3a48045",
   "metadata": {},
   "source": [
    "### Cluster 0"
   ]
  },
  {
   "cell_type": "code",
   "execution_count": 3,
   "id": "8e8b69de",
   "metadata": {},
   "outputs": [
    {
     "name": "stderr",
     "output_type": "stream",
     "text": [
      "/opt/anaconda3/lib/python3.12/site-packages/tqdm/auto.py:21: TqdmWarning: IProgress not found. Please update jupyter and ipywidgets. See https://ipywidgets.readthedocs.io/en/stable/user_install.html\n",
      "  from .autonotebook import tqdm as notebook_tqdm\n",
      "Importing plotly failed. Interactive plots will not work.\n"
     ]
    }
   ],
   "source": [
    "import pandas as pd\n",
    "import numpy as np\n",
    "from prophet import Prophet\n",
    "import matplotlib.pyplot as plt\n",
    "import seaborn as sns\n",
    "from itertools import product"
   ]
  },
  {
   "cell_type": "code",
   "execution_count": 24,
   "id": "50f73228",
   "metadata": {},
   "outputs": [],
   "source": [
    "df = pd.read_csv('cluster_0.csv')\n",
    "df['InvoiceDate'] = pd.to_datetime(df['InvoiceDate'])\n",
    "df['Revenue'] = df['Quantity'] * df['Price']\n",
    "\n",
    "daily_data = df.groupby(df['InvoiceDate'].dt.floor('D'))['Revenue'].sum().reset_index()\n",
    "daily_data = daily_data.rename(columns={'InvoiceDate': 'ds', 'Revenue': 'y'})\n",
    "daily_data = daily_data.sort_values('ds').dropna(subset=['y'])\n",
    "\n",
    "total_days = (daily_data['ds'].max() - daily_data['ds'].min()).days\n",
    "test_days = int(total_days * 0.20)\n",
    "val_days = int(total_days * 0.20)\n",
    "\n",
    "cutoff_test = daily_data['ds'].max() - pd.Timedelta(days=test_days)\n",
    "cutoff_val = cutoff_test - pd.Timedelta(days=val_days)\n",
    "\n",
    "train_data = daily_data[daily_data['ds'] < cutoff_val].copy()\n",
    "val_data = daily_data[(daily_data['ds'] >= cutoff_val) & (daily_data['ds'] < cutoff_test)].copy()\n",
    "test_data = daily_data[daily_data['ds'] >= cutoff_test].copy()\n",
    "test_data = test_data.sort_values('ds')"
   ]
  },
  {
   "cell_type": "code",
   "execution_count": 25,
   "id": "9dc1fa2d",
   "metadata": {},
   "outputs": [
    {
     "name": "stderr",
     "output_type": "stream",
     "text": [
      "00:28:54 - cmdstanpy - INFO - Chain [1] start processing\n",
      "00:28:55 - cmdstanpy - INFO - Chain [1] done processing\n",
      "00:28:55 - cmdstanpy - INFO - Chain [1] start processing\n",
      "00:28:55 - cmdstanpy - INFO - Chain [1] done processing\n",
      "00:28:55 - cmdstanpy - INFO - Chain [1] start processing\n",
      "00:28:55 - cmdstanpy - INFO - Chain [1] done processing\n"
     ]
    },
    {
     "name": "stdout",
     "output_type": "stream",
     "text": [
      "Tried {'changepoint_prior_scale': 0.01, 'seasonality_mode': 'additive', 'fourier_order': 5}, Validation MAPE: 44.498371\n",
      "Tried {'changepoint_prior_scale': 0.01, 'seasonality_mode': 'additive', 'fourier_order': 10}, Validation MAPE: 45.573071\n"
     ]
    },
    {
     "name": "stderr",
     "output_type": "stream",
     "text": [
      "00:28:55 - cmdstanpy - INFO - Chain [1] start processing\n",
      "00:28:55 - cmdstanpy - INFO - Chain [1] done processing\n",
      "00:28:55 - cmdstanpy - INFO - Chain [1] start processing\n",
      "00:28:55 - cmdstanpy - INFO - Chain [1] done processing\n"
     ]
    },
    {
     "name": "stdout",
     "output_type": "stream",
     "text": [
      "Tried {'changepoint_prior_scale': 0.01, 'seasonality_mode': 'additive', 'fourier_order': 15}, Validation MAPE: 45.830863\n",
      "Tried {'changepoint_prior_scale': 0.01, 'seasonality_mode': 'multiplicative', 'fourier_order': 5}, Validation MAPE: 49.352712\n"
     ]
    },
    {
     "name": "stderr",
     "output_type": "stream",
     "text": [
      "00:28:55 - cmdstanpy - INFO - Chain [1] start processing\n",
      "00:28:55 - cmdstanpy - INFO - Chain [1] done processing\n"
     ]
    },
    {
     "name": "stdout",
     "output_type": "stream",
     "text": [
      "Tried {'changepoint_prior_scale': 0.01, 'seasonality_mode': 'multiplicative', 'fourier_order': 10}, Validation MAPE: 53.901715\n"
     ]
    },
    {
     "name": "stderr",
     "output_type": "stream",
     "text": [
      "00:28:55 - cmdstanpy - INFO - Chain [1] start processing\n",
      "00:28:55 - cmdstanpy - INFO - Chain [1] done processing\n",
      "00:28:56 - cmdstanpy - INFO - Chain [1] start processing\n",
      "00:28:56 - cmdstanpy - INFO - Chain [1] done processing\n"
     ]
    },
    {
     "name": "stdout",
     "output_type": "stream",
     "text": [
      "Tried {'changepoint_prior_scale': 0.01, 'seasonality_mode': 'multiplicative', 'fourier_order': 15}, Validation MAPE: 58.901737\n",
      "Tried {'changepoint_prior_scale': 0.1, 'seasonality_mode': 'additive', 'fourier_order': 5}, Validation MAPE: 45.333075\n"
     ]
    },
    {
     "name": "stderr",
     "output_type": "stream",
     "text": [
      "00:28:56 - cmdstanpy - INFO - Chain [1] start processing\n",
      "00:28:56 - cmdstanpy - INFO - Chain [1] done processing\n",
      "00:28:56 - cmdstanpy - INFO - Chain [1] start processing\n",
      "00:28:56 - cmdstanpy - INFO - Chain [1] done processing\n"
     ]
    },
    {
     "name": "stdout",
     "output_type": "stream",
     "text": [
      "Tried {'changepoint_prior_scale': 0.1, 'seasonality_mode': 'additive', 'fourier_order': 10}, Validation MAPE: 47.548682\n",
      "Tried {'changepoint_prior_scale': 0.1, 'seasonality_mode': 'additive', 'fourier_order': 15}, Validation MAPE: 49.744238\n"
     ]
    },
    {
     "name": "stderr",
     "output_type": "stream",
     "text": [
      "00:28:56 - cmdstanpy - INFO - Chain [1] start processing\n",
      "00:28:56 - cmdstanpy - INFO - Chain [1] done processing\n",
      "00:28:56 - cmdstanpy - INFO - Chain [1] start processing\n",
      "00:28:56 - cmdstanpy - INFO - Chain [1] done processing\n"
     ]
    },
    {
     "name": "stdout",
     "output_type": "stream",
     "text": [
      "Tried {'changepoint_prior_scale': 0.1, 'seasonality_mode': 'multiplicative', 'fourier_order': 5}, Validation MAPE: 48.630214\n",
      "Tried {'changepoint_prior_scale': 0.1, 'seasonality_mode': 'multiplicative', 'fourier_order': 10}, Validation MAPE: 53.364850\n"
     ]
    },
    {
     "name": "stderr",
     "output_type": "stream",
     "text": [
      "00:28:56 - cmdstanpy - INFO - Chain [1] start processing\n",
      "00:28:56 - cmdstanpy - INFO - Chain [1] done processing\n",
      "00:28:56 - cmdstanpy - INFO - Chain [1] start processing\n",
      "00:28:56 - cmdstanpy - INFO - Chain [1] done processing\n"
     ]
    },
    {
     "name": "stdout",
     "output_type": "stream",
     "text": [
      "Tried {'changepoint_prior_scale': 0.1, 'seasonality_mode': 'multiplicative', 'fourier_order': 15}, Validation MAPE: 55.625832\n",
      "Tried {'changepoint_prior_scale': 0.5, 'seasonality_mode': 'additive', 'fourier_order': 5}, Validation MAPE: 46.384558\n"
     ]
    },
    {
     "name": "stderr",
     "output_type": "stream",
     "text": [
      "00:28:56 - cmdstanpy - INFO - Chain [1] start processing\n",
      "00:28:57 - cmdstanpy - INFO - Chain [1] done processing\n",
      "00:28:57 - cmdstanpy - INFO - Chain [1] start processing\n",
      "00:28:57 - cmdstanpy - INFO - Chain [1] done processing\n"
     ]
    },
    {
     "name": "stdout",
     "output_type": "stream",
     "text": [
      "Tried {'changepoint_prior_scale': 0.5, 'seasonality_mode': 'additive', 'fourier_order': 10}, Validation MAPE: 48.308654\n",
      "Tried {'changepoint_prior_scale': 0.5, 'seasonality_mode': 'additive', 'fourier_order': 15}, Validation MAPE: 50.431563\n"
     ]
    },
    {
     "name": "stderr",
     "output_type": "stream",
     "text": [
      "00:28:57 - cmdstanpy - INFO - Chain [1] start processing\n",
      "00:28:57 - cmdstanpy - INFO - Chain [1] done processing\n",
      "00:28:57 - cmdstanpy - INFO - Chain [1] start processing\n"
     ]
    },
    {
     "name": "stdout",
     "output_type": "stream",
     "text": [
      "Tried {'changepoint_prior_scale': 0.5, 'seasonality_mode': 'multiplicative', 'fourier_order': 5}, Validation MAPE: 42.118673\n",
      "Tried {'changepoint_prior_scale': 0.5, 'seasonality_mode': 'multiplicative', 'fourier_order': 10}, Validation MAPE: 42.960716\n"
     ]
    },
    {
     "name": "stderr",
     "output_type": "stream",
     "text": [
      "00:28:57 - cmdstanpy - INFO - Chain [1] done processing\n"
     ]
    },
    {
     "name": "stdout",
     "output_type": "stream",
     "text": [
      "Tried {'changepoint_prior_scale': 0.5, 'seasonality_mode': 'multiplicative', 'fourier_order': 15}, Validation MAPE: 44.455355\n",
      "\n",
      "Best Parameters Found (from validation set):\n",
      "params    {'changepoint_prior_scale': 0.5, 'seasonality_...\n",
      "MAPE                                              42.118673\n",
      "Name: 15, dtype: object\n"
     ]
    }
   ],
   "source": [
    "param_grid = {\n",
    "    'changepoint_prior_scale': [0.01, 0.1, 0.5],\n",
    "    'seasonality_mode': ['additive', 'multiplicative'],\n",
    "    'fourier_order': [5, 10, 15]\n",
    "}\n",
    "\n",
    "grid = list(product(*param_grid.values()))\n",
    "param_names = list(param_grid.keys())\n",
    "results_list = []\n",
    "\n",
    "for params in grid:\n",
    "    param_dict = dict(zip(param_names, params))\n",
    "    try:\n",
    "        m = Prophet(\n",
    "            yearly_seasonality=True,\n",
    "            weekly_seasonality=True,\n",
    "            daily_seasonality=False,\n",
    "            changepoint_prior_scale=param_dict['changepoint_prior_scale'],\n",
    "            seasonality_mode=param_dict['seasonality_mode']\n",
    "        )\n",
    "        m.add_seasonality(name='monthly', period=30.5, fourier_order=param_dict['fourier_order'])\n",
    "        m.fit(train_data)\n",
    "\n",
    "        future = m.make_future_dataframe(periods=val_days)\n",
    "        forecast = m.predict(future)\n",
    "\n",
    "        val_forecast = forecast[forecast['ds'] >= cutoff_val][['ds', 'yhat']].copy()\n",
    "        val_forecast['ds'] = pd.to_datetime(val_forecast['ds']).dt.floor('D')\n",
    "        val_data['ds'] = pd.to_datetime(val_data['ds']).dt.floor('D')\n",
    "\n",
    "        merged = val_data.merge(val_forecast, on='ds', how='left')\n",
    "        safe_y = merged['y'].replace(0, 1e-10)\n",
    "        merged['ape'] = 100 * np.abs((merged['y'] - merged['yhat']) / safe_y)\n",
    "        #merged['ape'] = merged['ape'].replace([np.inf, -np.inf], np.nan).fillna(0).clip(upper=100)\n",
    "        merged['ape'] = merged['ape'].replace([np.inf, -np.inf], np.nan).fillna(0)\n",
    "        mape_val = merged['ape'].mean()\n",
    "\n",
    "        results_list.append({'params': param_dict, 'MAPE': mape_val})\n",
    "        print(f\"Tried {param_dict}, Validation MAPE: {mape_val:.6f}\")\n",
    "\n",
    "    except Exception as e:\n",
    "        print(f\"Error with params {param_dict}: {e}\")\n",
    "\n",
    "results_df = pd.DataFrame(results_list)\n",
    "best_result_0 = results_df.loc[results_df['MAPE'].idxmin()]\n",
    "print(\"\\nBest Parameters Found (from validation set):\")\n",
    "print(best_result_0)"
   ]
  },
  {
   "cell_type": "code",
   "execution_count": 26,
   "id": "0dfee2dd",
   "metadata": {},
   "outputs": [
    {
     "name": "stdout",
     "output_type": "stream",
     "text": [
      "{'changepoint_prior_scale': 0.5, 'seasonality_mode': 'multiplicative', 'fourier_order': 5}\n"
     ]
    }
   ],
   "source": [
    "print(best_result_0['params'])"
   ]
  },
  {
   "cell_type": "code",
   "execution_count": 27,
   "id": "e033453f",
   "metadata": {},
   "outputs": [
    {
     "name": "stderr",
     "output_type": "stream",
     "text": [
      "00:29:09 - cmdstanpy - INFO - Chain [1] start processing\n",
      "00:29:09 - cmdstanpy - INFO - Chain [1] done processing\n"
     ]
    },
    {
     "name": "stdout",
     "output_type": "stream",
     "text": [
      "\n",
      "--- Final Test Set Evaluation ---\n",
      "MAPE: 39.0734\n",
      "MAE : 982.0904\n",
      "RMSE: 1579.0334\n"
     ]
    }
   ],
   "source": [
    "best_params_0 = best_result_0['params']\n",
    "full_train = daily_data[daily_data['ds'] < cutoff_test].copy()\n",
    "\n",
    "m = Prophet(\n",
    "    yearly_seasonality=True,\n",
    "    weekly_seasonality=True,\n",
    "    daily_seasonality=False,\n",
    "    changepoint_prior_scale=best_params_0['changepoint_prior_scale'],\n",
    "    seasonality_mode=best_params_0['seasonality_mode']\n",
    ")\n",
    "m.add_seasonality(name='monthly', period=30.5, fourier_order=best_params_0['fourier_order'])\n",
    "m.fit(full_train)\n",
    "\n",
    "test_days = (test_data['ds'].max() - test_data['ds'].min()).days + 1\n",
    "\n",
    "future = m.make_future_dataframe(periods=test_days)\n",
    "future = future[future['ds'] <= test_data['ds'].max()]  \n",
    "forecast = m.predict(future)\n",
    "\n",
    "forecast['ds'] = pd.to_datetime(forecast['ds']).dt.floor('D')\n",
    "test_data['ds'] = pd.to_datetime(test_data['ds']).dt.floor('D')\n",
    "predictions = forecast[forecast['ds'].isin(test_data['ds'])].copy()\n",
    "predictions = predictions.sort_values('ds')\n",
    "test_eval = test_data.merge(predictions[['ds', 'yhat']], on='ds', how='left')\n",
    "\n",
    "safe_y = test_eval['y'].replace(0, 1e-10)\n",
    "test_eval['ape'] = 100 * np.abs((test_eval['y'] - test_eval['yhat']) / safe_y)\n",
    "#test_eval['ape'] = test_eval['ape'].replace([np.inf, -np.inf], np.nan).fillna(0).clip(upper=100)\n",
    "test_eval['ape'] = test_eval['ape'].replace([np.inf, -np.inf], np.nan).fillna(0)\n",
    "\n",
    "mape_test = test_eval['ape'].mean()\n",
    "mae_test = np.mean(np.abs(test_eval['y'] - test_eval['yhat']))\n",
    "rmse_test = np.sqrt(np.mean((test_eval['y'] - test_eval['yhat'])**2))\n",
    "\n",
    "print(\"\\n--- Final Test Set Evaluation ---\")\n",
    "print(f\"MAPE: {mape_test:.4f}\")\n",
    "print(f\"MAE : {mae_test:.4f}\")\n",
    "print(f\"RMSE: {rmse_test:.4f}\")\n",
    "\n"
   ]
  },
  {
   "cell_type": "markdown",
   "id": "2b56de74",
   "metadata": {},
   "source": [
    "### Cluster 1"
   ]
  },
  {
   "cell_type": "code",
   "execution_count": 28,
   "id": "7660db43",
   "metadata": {},
   "outputs": [],
   "source": [
    "df = pd.read_csv('cluster_1.csv')\n",
    "df['InvoiceDate'] = pd.to_datetime(df['InvoiceDate'])\n",
    "df['Revenue'] = df['Quantity'] * df['Price']\n",
    "\n",
    "daily_data = df.groupby(df['InvoiceDate'].dt.floor('D'))['Revenue'].sum().reset_index()\n",
    "daily_data = daily_data.rename(columns={'InvoiceDate': 'ds', 'Revenue': 'y'})\n",
    "daily_data = daily_data.sort_values('ds').dropna(subset=['y'])\n",
    "\n",
    "total_days = (daily_data['ds'].max() - daily_data['ds'].min()).days\n",
    "test_days = int(total_days * 0.20)\n",
    "val_days = int(total_days * 0.20)\n",
    "\n",
    "cutoff_test = daily_data['ds'].max() - pd.Timedelta(days=test_days)\n",
    "cutoff_val = cutoff_test - pd.Timedelta(days=val_days)\n",
    "\n",
    "train_data = daily_data[daily_data['ds'] < cutoff_val].copy()\n",
    "val_data = daily_data[(daily_data['ds'] >= cutoff_val) & (daily_data['ds'] < cutoff_test)].copy()\n",
    "test_data = daily_data[daily_data['ds'] >= cutoff_test].copy()\n",
    "test_data = test_data.sort_values('ds')"
   ]
  },
  {
   "cell_type": "code",
   "execution_count": 30,
   "id": "6f9dc63c",
   "metadata": {},
   "outputs": [
    {
     "name": "stderr",
     "output_type": "stream",
     "text": [
      "00:29:27 - cmdstanpy - INFO - Chain [1] start processing\n",
      "00:29:27 - cmdstanpy - INFO - Chain [1] done processing\n",
      "00:29:27 - cmdstanpy - INFO - Chain [1] start processing\n",
      "00:29:27 - cmdstanpy - INFO - Chain [1] done processing\n",
      "00:29:27 - cmdstanpy - INFO - Chain [1] start processing\n",
      "00:29:27 - cmdstanpy - INFO - Chain [1] done processing\n"
     ]
    },
    {
     "name": "stdout",
     "output_type": "stream",
     "text": [
      "Tried {'changepoint_prior_scale': 0.01, 'seasonality_mode': 'additive', 'fourier_order': 5}, Validation MAPE: 46.935731\n",
      "Tried {'changepoint_prior_scale': 0.01, 'seasonality_mode': 'additive', 'fourier_order': 10}, Validation MAPE: 53.783523\n"
     ]
    },
    {
     "name": "stderr",
     "output_type": "stream",
     "text": [
      "00:29:27 - cmdstanpy - INFO - Chain [1] start processing\n",
      "00:29:27 - cmdstanpy - INFO - Chain [1] done processing\n",
      "00:29:27 - cmdstanpy - INFO - Chain [1] start processing\n",
      "00:29:27 - cmdstanpy - INFO - Chain [1] done processing\n"
     ]
    },
    {
     "name": "stdout",
     "output_type": "stream",
     "text": [
      "Tried {'changepoint_prior_scale': 0.01, 'seasonality_mode': 'additive', 'fourier_order': 15}, Validation MAPE: 51.045953\n",
      "Tried {'changepoint_prior_scale': 0.01, 'seasonality_mode': 'multiplicative', 'fourier_order': 5}, Validation MAPE: 63.859759\n"
     ]
    },
    {
     "name": "stderr",
     "output_type": "stream",
     "text": [
      "00:29:27 - cmdstanpy - INFO - Chain [1] start processing\n",
      "00:29:27 - cmdstanpy - INFO - Chain [1] done processing\n",
      "00:29:28 - cmdstanpy - INFO - Chain [1] start processing\n",
      "00:29:28 - cmdstanpy - INFO - Chain [1] done processing\n"
     ]
    },
    {
     "name": "stdout",
     "output_type": "stream",
     "text": [
      "Tried {'changepoint_prior_scale': 0.01, 'seasonality_mode': 'multiplicative', 'fourier_order': 10}, Validation MAPE: 63.957031\n",
      "Tried {'changepoint_prior_scale': 0.01, 'seasonality_mode': 'multiplicative', 'fourier_order': 15}, Validation MAPE: 62.462491\n"
     ]
    },
    {
     "name": "stderr",
     "output_type": "stream",
     "text": [
      "00:29:28 - cmdstanpy - INFO - Chain [1] start processing\n",
      "00:29:28 - cmdstanpy - INFO - Chain [1] done processing\n"
     ]
    },
    {
     "name": "stdout",
     "output_type": "stream",
     "text": [
      "Tried {'changepoint_prior_scale': 0.1, 'seasonality_mode': 'additive', 'fourier_order': 5}, Validation MAPE: 49.820047\n",
      "Tried {'changepoint_prior_scale': 0.1, 'seasonality_mode': 'additive', 'fourier_order': 10}, Validation MAPE: 49.877787\n"
     ]
    },
    {
     "name": "stderr",
     "output_type": "stream",
     "text": [
      "00:29:28 - cmdstanpy - INFO - Chain [1] start processing\n",
      "00:29:28 - cmdstanpy - INFO - Chain [1] done processing\n",
      "00:29:28 - cmdstanpy - INFO - Chain [1] start processing\n",
      "00:29:28 - cmdstanpy - INFO - Chain [1] done processing\n",
      "00:29:28 - cmdstanpy - INFO - Chain [1] start processing\n",
      "00:29:28 - cmdstanpy - INFO - Chain [1] done processing\n"
     ]
    },
    {
     "name": "stdout",
     "output_type": "stream",
     "text": [
      "Tried {'changepoint_prior_scale': 0.1, 'seasonality_mode': 'additive', 'fourier_order': 15}, Validation MAPE: 51.060327\n",
      "Tried {'changepoint_prior_scale': 0.1, 'seasonality_mode': 'multiplicative', 'fourier_order': 5}, Validation MAPE: 48.971166\n"
     ]
    },
    {
     "name": "stderr",
     "output_type": "stream",
     "text": [
      "00:29:28 - cmdstanpy - INFO - Chain [1] start processing\n",
      "00:29:28 - cmdstanpy - INFO - Chain [1] done processing\n",
      "00:29:28 - cmdstanpy - INFO - Chain [1] start processing\n",
      "00:29:28 - cmdstanpy - INFO - Chain [1] done processing\n"
     ]
    },
    {
     "name": "stdout",
     "output_type": "stream",
     "text": [
      "Tried {'changepoint_prior_scale': 0.1, 'seasonality_mode': 'multiplicative', 'fourier_order': 10}, Validation MAPE: 42.894026\n",
      "Tried {'changepoint_prior_scale': 0.1, 'seasonality_mode': 'multiplicative', 'fourier_order': 15}, Validation MAPE: 38.005803\n"
     ]
    },
    {
     "name": "stderr",
     "output_type": "stream",
     "text": [
      "00:29:29 - cmdstanpy - INFO - Chain [1] start processing\n",
      "00:29:29 - cmdstanpy - INFO - Chain [1] done processing\n",
      "00:29:29 - cmdstanpy - INFO - Chain [1] start processing\n",
      "00:29:29 - cmdstanpy - INFO - Chain [1] done processing\n",
      "00:29:29 - cmdstanpy - ERROR - Chain [1] error: error during processing Operation not permitted\n",
      "Optimization terminated abnormally. Falling back to Newton.\n",
      "00:29:29 - cmdstanpy - INFO - Chain [1] start processing\n"
     ]
    },
    {
     "name": "stdout",
     "output_type": "stream",
     "text": [
      "Tried {'changepoint_prior_scale': 0.5, 'seasonality_mode': 'additive', 'fourier_order': 5}, Validation MAPE: 72.241904\n",
      "Tried {'changepoint_prior_scale': 0.5, 'seasonality_mode': 'additive', 'fourier_order': 10}, Validation MAPE: 72.090747\n"
     ]
    },
    {
     "name": "stderr",
     "output_type": "stream",
     "text": [
      "00:29:30 - cmdstanpy - INFO - Chain [1] done processing\n",
      "00:29:30 - cmdstanpy - INFO - Chain [1] start processing\n",
      "00:29:30 - cmdstanpy - INFO - Chain [1] done processing\n",
      "00:29:30 - cmdstanpy - INFO - Chain [1] start processing\n",
      "00:29:30 - cmdstanpy - INFO - Chain [1] done processing\n"
     ]
    },
    {
     "name": "stdout",
     "output_type": "stream",
     "text": [
      "Tried {'changepoint_prior_scale': 0.5, 'seasonality_mode': 'additive', 'fourier_order': 15}, Validation MAPE: 39.132920\n",
      "Tried {'changepoint_prior_scale': 0.5, 'seasonality_mode': 'multiplicative', 'fourier_order': 5}, Validation MAPE: 82.781188\n"
     ]
    },
    {
     "name": "stderr",
     "output_type": "stream",
     "text": [
      "00:29:30 - cmdstanpy - INFO - Chain [1] start processing\n",
      "00:29:30 - cmdstanpy - INFO - Chain [1] done processing\n"
     ]
    },
    {
     "name": "stdout",
     "output_type": "stream",
     "text": [
      "Tried {'changepoint_prior_scale': 0.5, 'seasonality_mode': 'multiplicative', 'fourier_order': 10}, Validation MAPE: 82.804600\n",
      "Tried {'changepoint_prior_scale': 0.5, 'seasonality_mode': 'multiplicative', 'fourier_order': 15}, Validation MAPE: 80.779748\n",
      "\n",
      "Best Parameters Found (from validation set):\n",
      "params    {'changepoint_prior_scale': 0.1, 'seasonality_...\n",
      "MAPE                                              38.005803\n",
      "Name: 11, dtype: object\n"
     ]
    }
   ],
   "source": [
    "param_grid = {\n",
    "    'changepoint_prior_scale': [0.01, 0.1, 0.5],\n",
    "    'seasonality_mode': ['additive', 'multiplicative'],\n",
    "    'fourier_order': [5, 10, 15]\n",
    "}\n",
    "\n",
    "grid = list(product(*param_grid.values()))\n",
    "param_names = list(param_grid.keys())\n",
    "results_list = []\n",
    "\n",
    "for params in grid:\n",
    "    param_dict = dict(zip(param_names, params))\n",
    "    try:\n",
    "        m = Prophet(\n",
    "            yearly_seasonality=True,\n",
    "            weekly_seasonality=True,\n",
    "            daily_seasonality=False,\n",
    "            changepoint_prior_scale=param_dict['changepoint_prior_scale'],\n",
    "            seasonality_mode=param_dict['seasonality_mode']\n",
    "        )\n",
    "        m.add_seasonality(name='monthly', period=30.5, fourier_order=param_dict['fourier_order'])\n",
    "        m.fit(train_data)\n",
    "\n",
    "        future = m.make_future_dataframe(periods=val_days)\n",
    "        forecast = m.predict(future)\n",
    "\n",
    "        val_forecast = forecast[forecast['ds'] >= cutoff_val][['ds', 'yhat']].copy()\n",
    "        val_forecast['ds'] = pd.to_datetime(val_forecast['ds']).dt.floor('D')\n",
    "        val_data['ds'] = pd.to_datetime(val_data['ds']).dt.floor('D')\n",
    "\n",
    "        merged = val_data.merge(val_forecast, on='ds', how='left')\n",
    "        safe_y = merged['y'].replace(0, 1e-10)\n",
    "        merged['ape'] = 100 * np.abs((merged['y'] - merged['yhat']) / safe_y)\n",
    "        merged['ape'] = merged['ape'].replace([np.inf, -np.inf], np.nan).fillna(0).clip(upper=100)\n",
    "        mape_val = merged['ape'].mean()\n",
    "\n",
    "        results_list.append({'params': param_dict, 'MAPE': mape_val})\n",
    "        print(f\"Tried {param_dict}, Validation MAPE: {mape_val:.6f}\")\n",
    "\n",
    "    except Exception as e:\n",
    "        print(f\"Error with params {param_dict}: {e}\")\n",
    "\n",
    "results_df = pd.DataFrame(results_list)\n",
    "best_result_1 = results_df.loc[results_df['MAPE'].idxmin()]\n",
    "print(\"\\nBest Parameters Found (from validation set):\")\n",
    "print(best_result_1)\n"
   ]
  },
  {
   "cell_type": "code",
   "execution_count": 31,
   "id": "f776f9c8",
   "metadata": {},
   "outputs": [
    {
     "name": "stdout",
     "output_type": "stream",
     "text": [
      "{'changepoint_prior_scale': 0.1, 'seasonality_mode': 'multiplicative', 'fourier_order': 15}\n"
     ]
    }
   ],
   "source": [
    "print(best_result_1['params'])"
   ]
  },
  {
   "cell_type": "code",
   "execution_count": 32,
   "id": "bf4ecd31",
   "metadata": {},
   "outputs": [
    {
     "name": "stderr",
     "output_type": "stream",
     "text": [
      "00:29:50 - cmdstanpy - INFO - Chain [1] start processing\n",
      "00:29:50 - cmdstanpy - INFO - Chain [1] done processing\n"
     ]
    },
    {
     "name": "stdout",
     "output_type": "stream",
     "text": [
      "\n",
      "--- Final Test Set Evaluation ---\n",
      "MAPE: 33.4662\n",
      "MAE : 1497.6585\n",
      "RMSE: 2418.0869\n"
     ]
    }
   ],
   "source": [
    "best_params = best_result_1['params']\n",
    "full_train = daily_data[daily_data['ds'] < cutoff_test].copy()\n",
    "\n",
    "m = Prophet(\n",
    "    yearly_seasonality=True,\n",
    "    weekly_seasonality=True,\n",
    "    daily_seasonality=False,\n",
    "    changepoint_prior_scale=best_params['changepoint_prior_scale'],\n",
    "    seasonality_mode=best_params['seasonality_mode']\n",
    ")\n",
    "m.add_seasonality(name='monthly', period=30.5, fourier_order=best_params['fourier_order'])\n",
    "m.fit(full_train)\n",
    "\n",
    "test_days = (test_data['ds'].max() - test_data['ds'].min()).days + 1\n",
    "\n",
    "future = m.make_future_dataframe(periods=test_days)\n",
    "future = future[future['ds'] <= test_data['ds'].max()] \n",
    "forecast = m.predict(future)\n",
    "\n",
    "forecast['ds'] = pd.to_datetime(forecast['ds']).dt.floor('D')\n",
    "test_data['ds'] = pd.to_datetime(test_data['ds']).dt.floor('D')\n",
    "predictions = forecast[forecast['ds'].isin(test_data['ds'])].copy()\n",
    "predictions = predictions.sort_values('ds')\n",
    "test_eval = test_data.merge(predictions[['ds', 'yhat']], on='ds', how='left')\n",
    "\n",
    "safe_y = test_eval['y'].replace(0, 1e-10)\n",
    "test_eval['ape'] = 100 * np.abs((test_eval['y'] - test_eval['yhat']) / safe_y)\n",
    "test_eval['ape'] = test_eval['ape'].replace([np.inf, -np.inf], np.nan).fillna(0).clip(upper=100)\n",
    "\n",
    "mape_test = test_eval['ape'].mean()\n",
    "mae_test = np.mean(np.abs(test_eval['y'] - test_eval['yhat']))\n",
    "rmse_test = np.sqrt(np.mean((test_eval['y'] - test_eval['yhat'])**2))\n",
    "\n",
    "print(\"\\n--- Final Test Set Evaluation ---\")\n",
    "print(f\"MAPE: {mape_test:.4f}\")\n",
    "print(f\"MAE : {mae_test:.4f}\")\n",
    "print(f\"RMSE: {rmse_test:.4f}\")"
   ]
  },
  {
   "cell_type": "markdown",
   "id": "2937e5e7",
   "metadata": {},
   "source": [
    "### Cluster 2"
   ]
  },
  {
   "cell_type": "code",
   "execution_count": 33,
   "id": "9e0f7ba1",
   "metadata": {},
   "outputs": [],
   "source": [
    "df = pd.read_csv('cluster_2.csv')\n",
    "df['InvoiceDate'] = pd.to_datetime(df['InvoiceDate'])\n",
    "df['Revenue'] = df['Quantity'] * df['Price']\n",
    "\n",
    "daily_data = df.groupby(df['InvoiceDate'].dt.floor('D'))['Revenue'].sum().reset_index()\n",
    "daily_data = daily_data.rename(columns={'InvoiceDate': 'ds', 'Revenue': 'y'})\n",
    "daily_data = daily_data.sort_values('ds').dropna(subset=['y'])\n",
    "\n",
    "total_days = (daily_data['ds'].max() - daily_data['ds'].min()).days\n",
    "test_days = int(total_days * 0.20)\n",
    "val_days = int(total_days * 0.20)\n",
    "\n",
    "cutoff_test = daily_data['ds'].max() - pd.Timedelta(days=test_days)\n",
    "cutoff_val = cutoff_test - pd.Timedelta(days=val_days)\n",
    "\n",
    "train_data = daily_data[daily_data['ds'] < cutoff_val].copy()\n",
    "val_data = daily_data[(daily_data['ds'] >= cutoff_val) & (daily_data['ds'] < cutoff_test)].copy()\n",
    "test_data = daily_data[daily_data['ds'] >= cutoff_test].copy()\n",
    "test_data = test_data.sort_values('ds')"
   ]
  },
  {
   "cell_type": "code",
   "execution_count": 34,
   "id": "befb8780",
   "metadata": {},
   "outputs": [
    {
     "name": "stderr",
     "output_type": "stream",
     "text": [
      "00:30:00 - cmdstanpy - INFO - Chain [1] start processing\n",
      "00:30:01 - cmdstanpy - INFO - Chain [1] done processing\n",
      "00:30:01 - cmdstanpy - INFO - Chain [1] start processing\n",
      "00:30:01 - cmdstanpy - INFO - Chain [1] done processing\n",
      "00:30:01 - cmdstanpy - INFO - Chain [1] start processing\n"
     ]
    },
    {
     "name": "stdout",
     "output_type": "stream",
     "text": [
      "Tried {'changepoint_prior_scale': 0.01, 'seasonality_mode': 'additive', 'fourier_order': 5}, Validation MAPE: 62.044468\n",
      "Tried {'changepoint_prior_scale': 0.01, 'seasonality_mode': 'additive', 'fourier_order': 10}, Validation MAPE: 59.015097\n"
     ]
    },
    {
     "name": "stderr",
     "output_type": "stream",
     "text": [
      "00:30:01 - cmdstanpy - INFO - Chain [1] done processing\n",
      "00:30:01 - cmdstanpy - INFO - Chain [1] start processing\n",
      "00:30:01 - cmdstanpy - INFO - Chain [1] done processing\n",
      "00:30:01 - cmdstanpy - INFO - Chain [1] start processing\n"
     ]
    },
    {
     "name": "stdout",
     "output_type": "stream",
     "text": [
      "Tried {'changepoint_prior_scale': 0.01, 'seasonality_mode': 'additive', 'fourier_order': 15}, Validation MAPE: 55.069530\n",
      "Tried {'changepoint_prior_scale': 0.01, 'seasonality_mode': 'multiplicative', 'fourier_order': 5}, Validation MAPE: 66.660402\n"
     ]
    },
    {
     "name": "stderr",
     "output_type": "stream",
     "text": [
      "00:30:01 - cmdstanpy - INFO - Chain [1] done processing\n",
      "00:30:01 - cmdstanpy - INFO - Chain [1] start processing\n",
      "00:30:01 - cmdstanpy - INFO - Chain [1] done processing\n",
      "00:30:01 - cmdstanpy - INFO - Chain [1] start processing\n",
      "00:30:01 - cmdstanpy - INFO - Chain [1] done processing\n"
     ]
    },
    {
     "name": "stdout",
     "output_type": "stream",
     "text": [
      "Tried {'changepoint_prior_scale': 0.01, 'seasonality_mode': 'multiplicative', 'fourier_order': 10}, Validation MAPE: 66.941324\n",
      "Tried {'changepoint_prior_scale': 0.01, 'seasonality_mode': 'multiplicative', 'fourier_order': 15}, Validation MAPE: 66.964426\n"
     ]
    },
    {
     "name": "stderr",
     "output_type": "stream",
     "text": [
      "00:30:02 - cmdstanpy - INFO - Chain [1] start processing\n",
      "00:30:02 - cmdstanpy - INFO - Chain [1] done processing\n",
      "00:30:02 - cmdstanpy - INFO - Chain [1] start processing\n",
      "00:30:02 - cmdstanpy - INFO - Chain [1] done processing\n",
      "00:30:02 - cmdstanpy - ERROR - Chain [1] error: error during processing Operation not permitted\n",
      "Optimization terminated abnormally. Falling back to Newton.\n",
      "00:30:02 - cmdstanpy - INFO - Chain [1] start processing\n"
     ]
    },
    {
     "name": "stdout",
     "output_type": "stream",
     "text": [
      "Tried {'changepoint_prior_scale': 0.1, 'seasonality_mode': 'additive', 'fourier_order': 5}, Validation MAPE: 47.649855\n",
      "Tried {'changepoint_prior_scale': 0.1, 'seasonality_mode': 'additive', 'fourier_order': 10}, Validation MAPE: 49.118999\n"
     ]
    },
    {
     "name": "stderr",
     "output_type": "stream",
     "text": [
      "00:30:03 - cmdstanpy - INFO - Chain [1] done processing\n",
      "00:30:03 - cmdstanpy - INFO - Chain [1] start processing\n",
      "00:30:03 - cmdstanpy - INFO - Chain [1] done processing\n",
      "00:30:03 - cmdstanpy - INFO - Chain [1] start processing\n",
      "00:30:03 - cmdstanpy - INFO - Chain [1] done processing\n"
     ]
    },
    {
     "name": "stdout",
     "output_type": "stream",
     "text": [
      "Tried {'changepoint_prior_scale': 0.1, 'seasonality_mode': 'additive', 'fourier_order': 15}, Validation MAPE: 49.134903\n",
      "Tried {'changepoint_prior_scale': 0.1, 'seasonality_mode': 'multiplicative', 'fourier_order': 5}, Validation MAPE: 64.366865\n"
     ]
    },
    {
     "name": "stderr",
     "output_type": "stream",
     "text": [
      "00:30:04 - cmdstanpy - INFO - Chain [1] start processing\n",
      "00:30:04 - cmdstanpy - INFO - Chain [1] done processing\n",
      "00:30:04 - cmdstanpy - INFO - Chain [1] start processing\n"
     ]
    },
    {
     "name": "stdout",
     "output_type": "stream",
     "text": [
      "Tried {'changepoint_prior_scale': 0.1, 'seasonality_mode': 'multiplicative', 'fourier_order': 10}, Validation MAPE: 68.455992\n",
      "Tried {'changepoint_prior_scale': 0.1, 'seasonality_mode': 'multiplicative', 'fourier_order': 15}, Validation MAPE: 73.126715\n"
     ]
    },
    {
     "name": "stderr",
     "output_type": "stream",
     "text": [
      "00:30:04 - cmdstanpy - INFO - Chain [1] done processing\n",
      "00:30:04 - cmdstanpy - INFO - Chain [1] start processing\n",
      "00:30:04 - cmdstanpy - INFO - Chain [1] done processing\n",
      "00:30:04 - cmdstanpy - INFO - Chain [1] start processing\n"
     ]
    },
    {
     "name": "stdout",
     "output_type": "stream",
     "text": [
      "Tried {'changepoint_prior_scale': 0.5, 'seasonality_mode': 'additive', 'fourier_order': 5}, Validation MAPE: 64.893877\n",
      "Tried {'changepoint_prior_scale': 0.5, 'seasonality_mode': 'additive', 'fourier_order': 10}, Validation MAPE: 63.026141\n"
     ]
    },
    {
     "name": "stderr",
     "output_type": "stream",
     "text": [
      "00:30:04 - cmdstanpy - INFO - Chain [1] done processing\n",
      "00:30:04 - cmdstanpy - INFO - Chain [1] start processing\n",
      "00:30:04 - cmdstanpy - INFO - Chain [1] done processing\n",
      "00:30:04 - cmdstanpy - INFO - Chain [1] start processing\n"
     ]
    },
    {
     "name": "stdout",
     "output_type": "stream",
     "text": [
      "Tried {'changepoint_prior_scale': 0.5, 'seasonality_mode': 'additive', 'fourier_order': 15}, Validation MAPE: 68.071132\n",
      "Tried {'changepoint_prior_scale': 0.5, 'seasonality_mode': 'multiplicative', 'fourier_order': 5}, Validation MAPE: 79.441180\n"
     ]
    },
    {
     "name": "stderr",
     "output_type": "stream",
     "text": [
      "00:30:04 - cmdstanpy - INFO - Chain [1] done processing\n",
      "00:30:05 - cmdstanpy - INFO - Chain [1] start processing\n",
      "00:30:05 - cmdstanpy - INFO - Chain [1] done processing\n"
     ]
    },
    {
     "name": "stdout",
     "output_type": "stream",
     "text": [
      "Tried {'changepoint_prior_scale': 0.5, 'seasonality_mode': 'multiplicative', 'fourier_order': 10}, Validation MAPE: 87.360194\n",
      "Tried {'changepoint_prior_scale': 0.5, 'seasonality_mode': 'multiplicative', 'fourier_order': 15}, Validation MAPE: 91.499540\n",
      "\n",
      "Best Parameters Found (from validation set):\n",
      "params    {'changepoint_prior_scale': 0.1, 'seasonality_...\n",
      "MAPE                                              47.649855\n",
      "Name: 6, dtype: object\n"
     ]
    }
   ],
   "source": [
    "param_grid = {\n",
    "    'changepoint_prior_scale': [0.01, 0.1, 0.5],\n",
    "    'seasonality_mode': ['additive', 'multiplicative'],\n",
    "    'fourier_order': [5, 10, 15]\n",
    "}\n",
    "\n",
    "grid = list(product(*param_grid.values()))\n",
    "param_names = list(param_grid.keys())\n",
    "results_list = []\n",
    "\n",
    "for params in grid:\n",
    "    param_dict = dict(zip(param_names, params))\n",
    "    try:\n",
    "        m = Prophet(\n",
    "            yearly_seasonality=True,\n",
    "            weekly_seasonality=True,\n",
    "            daily_seasonality=False,\n",
    "            changepoint_prior_scale=param_dict['changepoint_prior_scale'],\n",
    "            seasonality_mode=param_dict['seasonality_mode']\n",
    "        )\n",
    "        m.add_seasonality(name='monthly', period=30.5, fourier_order=param_dict['fourier_order'])\n",
    "        m.fit(train_data)\n",
    "\n",
    "        future = m.make_future_dataframe(periods=val_days)\n",
    "        forecast = m.predict(future)\n",
    "\n",
    "        val_forecast = forecast[forecast['ds'] >= cutoff_val][['ds', 'yhat']].copy()\n",
    "        val_forecast['ds'] = pd.to_datetime(val_forecast['ds']).dt.floor('D')\n",
    "        val_data['ds'] = pd.to_datetime(val_data['ds']).dt.floor('D')\n",
    "\n",
    "        merged = val_data.merge(val_forecast, on='ds', how='left')\n",
    "        safe_y = merged['y'].replace(0, 1e-10)\n",
    "        merged['ape'] = 100 * np.abs((merged['y'] - merged['yhat']) / safe_y)\n",
    "        merged['ape'] = merged['ape'].replace([np.inf, -np.inf], np.nan).fillna(0).clip(upper=100)\n",
    "        mape_val = merged['ape'].mean()\n",
    "\n",
    "        results_list.append({'params': param_dict, 'MAPE': mape_val})\n",
    "        print(f\"Tried {param_dict}, Validation MAPE: {mape_val:.6f}\")\n",
    "\n",
    "    except Exception as e:\n",
    "        print(f\"Error with params {param_dict}: {e}\")\n",
    "\n",
    "results_df = pd.DataFrame(results_list)\n",
    "best_result_2 = results_df.loc[results_df['MAPE'].idxmin()]\n",
    "print(\"\\nBest Parameters Found (from validation set):\")\n",
    "print(best_result_2)\n"
   ]
  },
  {
   "cell_type": "code",
   "execution_count": 35,
   "id": "0a9ecddf",
   "metadata": {},
   "outputs": [
    {
     "name": "stdout",
     "output_type": "stream",
     "text": [
      "{'changepoint_prior_scale': 0.1, 'seasonality_mode': 'additive', 'fourier_order': 5}\n"
     ]
    }
   ],
   "source": [
    "print(best_result_2['params'])"
   ]
  },
  {
   "cell_type": "code",
   "execution_count": null,
   "id": "82b1b74a",
   "metadata": {},
   "outputs": [
    {
     "name": "stderr",
     "output_type": "stream",
     "text": [
      "00:30:20 - cmdstanpy - INFO - Chain [1] start processing\n",
      "00:30:20 - cmdstanpy - INFO - Chain [1] done processing\n"
     ]
    },
    {
     "name": "stdout",
     "output_type": "stream",
     "text": [
      "\n",
      "--- Final Test Set Evaluation ---\n",
      "MAPE: 36.6779\n",
      "MAE : 1111.1571\n",
      "RMSE: 1547.3865\n"
     ]
    }
   ],
   "source": [
    "best_params = best_result_2['params']\n",
    "full_train = daily_data[daily_data['ds'] < cutoff_test].copy()\n",
    "\n",
    "m = Prophet(\n",
    "    yearly_seasonality=True,\n",
    "    weekly_seasonality=True,\n",
    "    daily_seasonality=False,\n",
    "    changepoint_prior_scale=best_params['changepoint_prior_scale'],\n",
    "    seasonality_mode=best_params['seasonality_mode']\n",
    ")\n",
    "m.add_seasonality(name='monthly', period=30.5, fourier_order=best_params['fourier_order'])\n",
    "m.fit(full_train)\n",
    "\n",
    "test_days = (test_data['ds'].max() - test_data['ds'].min()).days + 1\n",
    "\n",
    "future = m.make_future_dataframe(periods=test_days)\n",
    "future = future[future['ds'] <= test_data['ds'].max()]  \n",
    "forecast = m.predict(future)\n",
    "\n",
    "forecast['ds'] = pd.to_datetime(forecast['ds']).dt.floor('D')\n",
    "test_data['ds'] = pd.to_datetime(test_data['ds']).dt.floor('D')\n",
    "predictions = forecast[forecast['ds'].isin(test_data['ds'])].copy()\n",
    "predictions = predictions.sort_values('ds')\n",
    "test_eval = test_data.merge(predictions[['ds', 'yhat']], on='ds', how='left')\n",
    "\n",
    "safe_y = test_eval['y'].replace(0, 1e-10)\n",
    "test_eval['ape'] = 100 * np.abs((test_eval['y'] - test_eval['yhat']) / safe_y)\n",
    "test_eval['ape'] = test_eval['ape'].replace([np.inf, -np.inf], np.nan).fillna(0).clip(upper=100)\n",
    "\n",
    "mape_test = test_eval['ape'].mean()\n",
    "mae_test = np.mean(np.abs(test_eval['y'] - test_eval['yhat']))\n",
    "rmse_test = np.sqrt(np.mean((test_eval['y'] - test_eval['yhat'])**2))\n",
    "\n",
    "print(\"\\n--- Final Test Set Evaluation ---\")\n",
    "print(f\"MAPE: {mape_test:.4f}\")\n",
    "print(f\"MAE : {mae_test:.4f}\")\n",
    "print(f\"RMSE: {rmse_test:.4f}\")\n"
   ]
  },
  {
   "cell_type": "markdown",
   "id": "30f4d78d",
   "metadata": {},
   "source": [
    "## Weekly"
   ]
  },
  {
   "cell_type": "code",
   "execution_count": 37,
   "id": "9fff1f9f",
   "metadata": {},
   "outputs": [
    {
     "name": "stderr",
     "output_type": "stream",
     "text": [
      "00:30:56 - cmdstanpy - INFO - Chain [1] start processing\n",
      "00:30:56 - cmdstanpy - INFO - Chain [1] done processing\n",
      "00:30:56 - cmdstanpy - INFO - Chain [1] start processing\n",
      "00:30:56 - cmdstanpy - INFO - Chain [1] done processing\n",
      "00:30:56 - cmdstanpy - INFO - Chain [1] start processing\n"
     ]
    },
    {
     "name": "stdout",
     "output_type": "stream",
     "text": [
      "Tried {'changepoint_prior_scale': 0.01, 'seasonality_mode': 'additive', 'fourier_order': 5}, Validation MAPE: 22.060149\n",
      "Tried {'changepoint_prior_scale': 0.01, 'seasonality_mode': 'additive', 'fourier_order': 10}, Validation MAPE: 100.000000\n"
     ]
    },
    {
     "name": "stderr",
     "output_type": "stream",
     "text": [
      "00:30:56 - cmdstanpy - INFO - Chain [1] done processing\n",
      "00:30:56 - cmdstanpy - INFO - Chain [1] start processing\n"
     ]
    },
    {
     "name": "stdout",
     "output_type": "stream",
     "text": [
      "Tried {'changepoint_prior_scale': 0.01, 'seasonality_mode': 'additive', 'fourier_order': 15}, Validation MAPE: 100.000000\n"
     ]
    },
    {
     "name": "stderr",
     "output_type": "stream",
     "text": [
      "00:30:57 - cmdstanpy - INFO - Chain [1] done processing\n",
      "00:30:57 - cmdstanpy - INFO - Chain [1] start processing\n"
     ]
    },
    {
     "name": "stdout",
     "output_type": "stream",
     "text": [
      "Tried {'changepoint_prior_scale': 0.01, 'seasonality_mode': 'multiplicative', 'fourier_order': 5}, Validation MAPE: 26.059222\n"
     ]
    },
    {
     "name": "stderr",
     "output_type": "stream",
     "text": [
      "00:30:57 - cmdstanpy - INFO - Chain [1] done processing\n",
      "00:30:57 - cmdstanpy - INFO - Chain [1] start processing\n",
      "00:30:57 - cmdstanpy - INFO - Chain [1] done processing\n"
     ]
    },
    {
     "name": "stdout",
     "output_type": "stream",
     "text": [
      "Tried {'changepoint_prior_scale': 0.01, 'seasonality_mode': 'multiplicative', 'fourier_order': 10}, Validation MAPE: 98.419604\n"
     ]
    },
    {
     "name": "stderr",
     "output_type": "stream",
     "text": [
      "00:30:57 - cmdstanpy - INFO - Chain [1] start processing\n",
      "00:30:57 - cmdstanpy - INFO - Chain [1] done processing\n",
      "00:30:57 - cmdstanpy - INFO - Chain [1] start processing\n"
     ]
    },
    {
     "name": "stdout",
     "output_type": "stream",
     "text": [
      "Tried {'changepoint_prior_scale': 0.01, 'seasonality_mode': 'multiplicative', 'fourier_order': 15}, Validation MAPE: 88.261747\n",
      "Tried {'changepoint_prior_scale': 0.1, 'seasonality_mode': 'additive', 'fourier_order': 5}, Validation MAPE: 22.068328\n"
     ]
    },
    {
     "name": "stderr",
     "output_type": "stream",
     "text": [
      "00:30:58 - cmdstanpy - INFO - Chain [1] done processing\n",
      "00:30:58 - cmdstanpy - INFO - Chain [1] start processing\n",
      "00:30:58 - cmdstanpy - INFO - Chain [1] done processing\n"
     ]
    },
    {
     "name": "stdout",
     "output_type": "stream",
     "text": [
      "Tried {'changepoint_prior_scale': 0.1, 'seasonality_mode': 'additive', 'fourier_order': 10}, Validation MAPE: 100.000000\n",
      "Tried {'changepoint_prior_scale': 0.1, 'seasonality_mode': 'additive', 'fourier_order': 15}, Validation MAPE: 100.000000\n"
     ]
    },
    {
     "name": "stderr",
     "output_type": "stream",
     "text": [
      "00:30:58 - cmdstanpy - INFO - Chain [1] start processing\n",
      "00:30:58 - cmdstanpy - INFO - Chain [1] done processing\n",
      "00:30:58 - cmdstanpy - INFO - Chain [1] start processing\n"
     ]
    },
    {
     "name": "stdout",
     "output_type": "stream",
     "text": [
      "Tried {'changepoint_prior_scale': 0.1, 'seasonality_mode': 'multiplicative', 'fourier_order': 5}, Validation MAPE: 26.227410\n"
     ]
    },
    {
     "name": "stderr",
     "output_type": "stream",
     "text": [
      "00:30:59 - cmdstanpy - INFO - Chain [1] done processing\n",
      "00:30:59 - cmdstanpy - INFO - Chain [1] start processing\n"
     ]
    },
    {
     "name": "stdout",
     "output_type": "stream",
     "text": [
      "Tried {'changepoint_prior_scale': 0.1, 'seasonality_mode': 'multiplicative', 'fourier_order': 10}, Validation MAPE: 99.410771\n"
     ]
    },
    {
     "name": "stderr",
     "output_type": "stream",
     "text": [
      "00:31:00 - cmdstanpy - INFO - Chain [1] done processing\n",
      "00:31:00 - cmdstanpy - INFO - Chain [1] start processing\n",
      "00:31:00 - cmdstanpy - INFO - Chain [1] done processing\n"
     ]
    },
    {
     "name": "stdout",
     "output_type": "stream",
     "text": [
      "Tried {'changepoint_prior_scale': 0.1, 'seasonality_mode': 'multiplicative', 'fourier_order': 15}, Validation MAPE: 89.674231\n"
     ]
    },
    {
     "name": "stderr",
     "output_type": "stream",
     "text": [
      "00:31:00 - cmdstanpy - INFO - Chain [1] start processing\n"
     ]
    },
    {
     "name": "stdout",
     "output_type": "stream",
     "text": [
      "Tried {'changepoint_prior_scale': 0.5, 'seasonality_mode': 'additive', 'fourier_order': 5}, Validation MAPE: 22.071300\n"
     ]
    },
    {
     "name": "stderr",
     "output_type": "stream",
     "text": [
      "00:31:00 - cmdstanpy - INFO - Chain [1] done processing\n",
      "00:31:00 - cmdstanpy - INFO - Chain [1] start processing\n",
      "00:31:00 - cmdstanpy - INFO - Chain [1] done processing\n"
     ]
    },
    {
     "name": "stdout",
     "output_type": "stream",
     "text": [
      "Tried {'changepoint_prior_scale': 0.5, 'seasonality_mode': 'additive', 'fourier_order': 10}, Validation MAPE: 100.000000\n",
      "Tried {'changepoint_prior_scale': 0.5, 'seasonality_mode': 'additive', 'fourier_order': 15}, Validation MAPE: 100.000000\n"
     ]
    },
    {
     "name": "stderr",
     "output_type": "stream",
     "text": [
      "00:31:00 - cmdstanpy - INFO - Chain [1] start processing\n",
      "00:31:01 - cmdstanpy - INFO - Chain [1] done processing\n",
      "00:31:01 - cmdstanpy - INFO - Chain [1] start processing\n"
     ]
    },
    {
     "name": "stdout",
     "output_type": "stream",
     "text": [
      "Tried {'changepoint_prior_scale': 0.5, 'seasonality_mode': 'multiplicative', 'fourier_order': 5}, Validation MAPE: 26.247547\n"
     ]
    },
    {
     "name": "stderr",
     "output_type": "stream",
     "text": [
      "00:31:02 - cmdstanpy - INFO - Chain [1] done processing\n",
      "00:31:02 - cmdstanpy - INFO - Chain [1] start processing\n"
     ]
    },
    {
     "name": "stdout",
     "output_type": "stream",
     "text": [
      "Tried {'changepoint_prior_scale': 0.5, 'seasonality_mode': 'multiplicative', 'fourier_order': 10}, Validation MAPE: 100.000000\n"
     ]
    },
    {
     "name": "stderr",
     "output_type": "stream",
     "text": [
      "00:31:04 - cmdstanpy - INFO - Chain [1] done processing\n",
      "00:31:04 - cmdstanpy - INFO - Chain [1] start processing\n",
      "00:31:04 - cmdstanpy - INFO - Chain [1] done processing\n"
     ]
    },
    {
     "name": "stdout",
     "output_type": "stream",
     "text": [
      "Tried {'changepoint_prior_scale': 0.5, 'seasonality_mode': 'multiplicative', 'fourier_order': 15}, Validation MAPE: 70.840503\n",
      "\n",
      "Best Parameters Found (from validation set):\n",
      "params    {'changepoint_prior_scale': 0.01, 'seasonality...\n",
      "MAPE                                              22.060149\n",
      "Name: 0, dtype: object\n",
      "{'changepoint_prior_scale': 0.01, 'seasonality_mode': 'additive', 'fourier_order': 5}\n"
     ]
    }
   ],
   "source": [
    "df = pd.read_csv('cluster_0.csv')\n",
    "df['InvoiceDate'] = pd.to_datetime(df['InvoiceDate'])\n",
    "df['Revenue'] = df['Quantity'] * df['Price']\n",
    "\n",
    "df.set_index('InvoiceDate', inplace=True)\n",
    "weekly_data = df['Revenue'].resample('W-MON').sum().reset_index()\n",
    "weekly_data = weekly_data.rename(columns={'InvoiceDate': 'ds', 'Revenue': 'y'})\n",
    "weekly_data = weekly_data.dropna(subset=['y']).sort_values('ds')\n",
    "\n",
    "total_weeks = (weekly_data['ds'].max() - weekly_data['ds'].min()).days // 7\n",
    "test_weeks = int(total_weeks * 0.20)\n",
    "val_weeks = int(total_weeks * 0.20)\n",
    "\n",
    "cutoff_test = weekly_data['ds'].max() - pd.Timedelta(weeks=test_weeks)\n",
    "cutoff_val = cutoff_test - pd.Timedelta(weeks=val_weeks)\n",
    "\n",
    "train_data = weekly_data[weekly_data['ds'] < cutoff_val].copy()\n",
    "val_data = weekly_data[(weekly_data['ds'] >= cutoff_val) & (weekly_data['ds'] < cutoff_test)].copy()\n",
    "test_data = weekly_data[weekly_data['ds'] >= cutoff_test].copy()\n",
    "\n",
    "param_grid = {\n",
    "    'changepoint_prior_scale': [0.01, 0.1, 0.5],\n",
    "    'seasonality_mode': ['additive', 'multiplicative'],\n",
    "    'fourier_order': [5, 10, 15]\n",
    "}\n",
    "\n",
    "grid = list(product(*param_grid.values()))\n",
    "param_names = list(param_grid.keys())\n",
    "results_list = []\n",
    "\n",
    "for params in grid:\n",
    "    param_dict = dict(zip(param_names, params))\n",
    "    try:\n",
    "        m = Prophet(\n",
    "            yearly_seasonality=True,\n",
    "            weekly_seasonality=True,\n",
    "            daily_seasonality=False,\n",
    "            changepoint_prior_scale=param_dict['changepoint_prior_scale'],\n",
    "            seasonality_mode=param_dict['seasonality_mode']\n",
    "        )\n",
    "        m.add_seasonality(name='monthly', period=30.5, fourier_order=param_dict['fourier_order'])\n",
    "        m.fit(train_data)\n",
    "\n",
    "        future = m.make_future_dataframe(periods=val_weeks, freq='W-MON')\n",
    "        forecast = m.predict(future)\n",
    "\n",
    "        val_forecast = forecast[forecast['ds'] >= cutoff_val][['ds', 'yhat']].copy()\n",
    "        val_forecast['ds'] = pd.to_datetime(val_forecast['ds'])\n",
    "        val_data['ds'] = pd.to_datetime(val_data['ds'])\n",
    "\n",
    "        merged = val_data.merge(val_forecast, on='ds', how='left')\n",
    "        safe_y = merged['y'].replace(0, 1e-10)\n",
    "        merged['ape'] = 100 * np.abs((merged['y'] - merged['yhat']) / safe_y)\n",
    "        merged['ape'] = merged['ape'].replace([np.inf, -np.inf], np.nan).fillna(0).clip(upper=100)\n",
    "\n",
    "        mape_val = merged['ape'].mean()\n",
    "        results_list.append({'params': param_dict, 'MAPE': mape_val})\n",
    "        print(f\"Tried {param_dict}, Validation MAPE: {mape_val:.6f}\")\n",
    "\n",
    "    except Exception as e:\n",
    "        print(f\"Error with params {param_dict}: {e}\")\n",
    "\n",
    "results_df = pd.DataFrame(results_list)\n",
    "best_result1 = results_df.loc[results_df['MAPE'].idxmin()]\n",
    "print(\"\\nBest Parameters Found (from validation set):\")\n",
    "print(best_result1)\n",
    "print(best_result1['params'])\n",
    "\n",
    "best_params = best_result1['params']\n",
    "full_train = weekly_data[weekly_data['ds'] < cutoff_test].copy()\n",
    "\n",
    "m = Prophet(\n",
    "    yearly_seasonality=True,\n",
    "    weekly_seasonality=True,\n",
    "    daily_seasonality=False,\n",
    "    changepoint_prior_scale=best_params['changepoint_prior_scale'],\n",
    "    seasonality_mode=best_params['seasonality_mode']\n",
    ")\n",
    "m.add_seasonality(name='monthly', period=30.5, fourier_order=best_params['fourier_order'])\n",
    "m.fit(full_train)\n",
    "\n",
    "test_weeks = (test_data['ds'].max() - test_data['ds'].min()).days // 7 + 1\n",
    "future = m.make_future_dataframe(periods=test_weeks, freq='W-MON')\n",
    "future = future[future['ds'] <= test_data['ds'].max()]\n",
    "forecast = m.predict(future)"
   ]
  },
  {
   "cell_type": "code",
   "execution_count": null,
   "id": "80a23cc0",
   "metadata": {},
   "outputs": [
    {
     "name": "stdout",
     "output_type": "stream",
     "text": [
      "\n",
      "--- Final Test Set Evaluation ---\n",
      "MAPE: 43.1934\n",
      "MAE : 5550.2526\n",
      "RMSE: 7117.5308\n"
     ]
    },
    {
     "data": {
      "image/png": "[encoded data removed]",
      "text/plain": [
       "<Figure size 1200x600 with 1 Axes>"
      ]
     },
     "metadata": {},
     "output_type": "display_data"
    }
   ],
   "source": [
    "forecast['ds'] = pd.to_datetime(forecast['ds'])\n",
    "test_data['ds'] = pd.to_datetime(test_data['ds'])\n",
    "predictions = forecast[forecast['ds'].isin(test_data['ds'])].copy()\n",
    "predictions = predictions.sort_values('ds')\n",
    "\n",
    "test_eval = test_data.merge(predictions[['ds', 'yhat']], on='ds', how='left')\n",
    "safe_y = test_eval['y'].replace(0, 1e-10)\n",
    "test_eval['ape'] = 100 * np.abs((test_eval['y'] - test_eval['yhat']) / safe_y)\n",
    "test_eval['ape'] = test_eval['ape'].replace([np.inf, -np.inf], np.nan).fillna(0)\n",
    "\n",
    "mape_test = test_eval['ape'].mean()\n",
    "mae_test = np.mean(np.abs(test_eval['y'] - test_eval['yhat']))\n",
    "rmse_test = np.sqrt(np.mean((test_eval['y'] - test_eval['yhat'])**2))\n",
    "\n",
    "print(\"\\n--- Final Test Set Evaluation ---\")\n",
    "print(f\"MAPE: {mape_test:.4f}\")\n",
    "print(f\"MAE : {mae_test:.4f}\")\n",
    "print(f\"RMSE: {rmse_test:.4f}\")\n",
    "\n",
    "plt.figure(figsize=(12, 6))\n",
    "plt.plot(test_eval['ds'], test_eval['y'], 'r-', label='Actual Weekly Revenue')\n",
    "plt.plot(test_eval['ds'], test_eval['yhat'], 'k--', label='Prophet Forecast')\n",
    "\n",
    "plt.title(f'Prophet Forecast vs Actual - Weekly Test Set (MAPE: {mape_test:.2f}%)')\n",
    "plt.xlabel('Week')\n",
    "plt.ylabel('Weekly Sales Value')\n",
    "plt.legend()\n",
    "plt.grid(True, alpha=0.3)\n",
    "plt.tight_layout()\n",
    "plt.show()"
   ]
  },
  {
   "cell_type": "markdown",
   "id": "e57a4f8e",
   "metadata": {},
   "source": [
    "### Cluster 1"
   ]
  },
  {
   "cell_type": "code",
   "execution_count": 38,
   "id": "463294e7",
   "metadata": {},
   "outputs": [
    {
     "name": "stderr",
     "output_type": "stream",
     "text": [
      "02:01:52 - cmdstanpy - INFO - Chain [1] start processing\n",
      "02:01:52 - cmdstanpy - INFO - Chain [1] done processing\n",
      "02:01:52 - cmdstanpy - INFO - Chain [1] start processing\n"
     ]
    },
    {
     "name": "stdout",
     "output_type": "stream",
     "text": [
      "Tried {'changepoint_prior_scale': 0.01, 'seasonality_mode': 'additive', 'fourier_order': 5}, Validation MAPE: 62.020372\n"
     ]
    },
    {
     "name": "stderr",
     "output_type": "stream",
     "text": [
      "02:01:52 - cmdstanpy - INFO - Chain [1] done processing\n",
      "02:01:53 - cmdstanpy - INFO - Chain [1] start processing\n",
      "02:01:53 - cmdstanpy - INFO - Chain [1] done processing\n"
     ]
    },
    {
     "name": "stdout",
     "output_type": "stream",
     "text": [
      "Tried {'changepoint_prior_scale': 0.01, 'seasonality_mode': 'additive', 'fourier_order': 10}, Validation MAPE: 100.000000\n",
      "Tried {'changepoint_prior_scale': 0.01, 'seasonality_mode': 'additive', 'fourier_order': 15}, Validation MAPE: 93.765591\n"
     ]
    },
    {
     "name": "stderr",
     "output_type": "stream",
     "text": [
      "02:01:53 - cmdstanpy - INFO - Chain [1] start processing\n",
      "02:01:53 - cmdstanpy - INFO - Chain [1] done processing\n",
      "02:01:53 - cmdstanpy - INFO - Chain [1] start processing\n"
     ]
    },
    {
     "name": "stdout",
     "output_type": "stream",
     "text": [
      "Tried {'changepoint_prior_scale': 0.01, 'seasonality_mode': 'multiplicative', 'fourier_order': 5}, Validation MAPE: 61.405428\n"
     ]
    },
    {
     "name": "stderr",
     "output_type": "stream",
     "text": [
      "02:01:54 - cmdstanpy - INFO - Chain [1] done processing\n",
      "02:01:54 - cmdstanpy - INFO - Chain [1] start processing\n",
      "02:01:54 - cmdstanpy - INFO - Chain [1] done processing\n"
     ]
    },
    {
     "name": "stdout",
     "output_type": "stream",
     "text": [
      "Tried {'changepoint_prior_scale': 0.01, 'seasonality_mode': 'multiplicative', 'fourier_order': 10}, Validation MAPE: 100.000000\n"
     ]
    },
    {
     "name": "stderr",
     "output_type": "stream",
     "text": [
      "02:01:55 - cmdstanpy - INFO - Chain [1] start processing\n",
      "02:01:55 - cmdstanpy - INFO - Chain [1] done processing\n",
      "02:01:55 - cmdstanpy - INFO - Chain [1] start processing\n"
     ]
    },
    {
     "name": "stdout",
     "output_type": "stream",
     "text": [
      "Tried {'changepoint_prior_scale': 0.01, 'seasonality_mode': 'multiplicative', 'fourier_order': 15}, Validation MAPE: 95.189259\n",
      "Tried {'changepoint_prior_scale': 0.1, 'seasonality_mode': 'additive', 'fourier_order': 5}, Validation MAPE: 61.410719\n"
     ]
    },
    {
     "name": "stderr",
     "output_type": "stream",
     "text": [
      "02:01:55 - cmdstanpy - INFO - Chain [1] done processing\n",
      "02:01:55 - cmdstanpy - INFO - Chain [1] start processing\n"
     ]
    },
    {
     "name": "stdout",
     "output_type": "stream",
     "text": [
      "Tried {'changepoint_prior_scale': 0.1, 'seasonality_mode': 'additive', 'fourier_order': 10}, Validation MAPE: 100.000000\n"
     ]
    },
    {
     "name": "stderr",
     "output_type": "stream",
     "text": [
      "02:01:55 - cmdstanpy - INFO - Chain [1] done processing\n",
      "02:01:55 - cmdstanpy - INFO - Chain [1] start processing\n"
     ]
    },
    {
     "name": "stdout",
     "output_type": "stream",
     "text": [
      "Tried {'changepoint_prior_scale': 0.1, 'seasonality_mode': 'additive', 'fourier_order': 15}, Validation MAPE: 94.514086\n"
     ]
    },
    {
     "name": "stderr",
     "output_type": "stream",
     "text": [
      "02:01:55 - cmdstanpy - INFO - Chain [1] done processing\n",
      "02:01:55 - cmdstanpy - INFO - Chain [1] start processing\n"
     ]
    },
    {
     "name": "stdout",
     "output_type": "stream",
     "text": [
      "Tried {'changepoint_prior_scale': 0.1, 'seasonality_mode': 'multiplicative', 'fourier_order': 5}, Validation MAPE: 61.423869\n"
     ]
    },
    {
     "name": "stderr",
     "output_type": "stream",
     "text": [
      "02:01:56 - cmdstanpy - INFO - Chain [1] done processing\n",
      "02:01:56 - cmdstanpy - INFO - Chain [1] start processing\n"
     ]
    },
    {
     "name": "stdout",
     "output_type": "stream",
     "text": [
      "Tried {'changepoint_prior_scale': 0.1, 'seasonality_mode': 'multiplicative', 'fourier_order': 10}, Validation MAPE: 100.000000\n"
     ]
    },
    {
     "name": "stderr",
     "output_type": "stream",
     "text": [
      "02:01:56 - cmdstanpy - INFO - Chain [1] done processing\n",
      "02:01:56 - cmdstanpy - INFO - Chain [1] start processing\n"
     ]
    },
    {
     "name": "stdout",
     "output_type": "stream",
     "text": [
      "Tried {'changepoint_prior_scale': 0.1, 'seasonality_mode': 'multiplicative', 'fourier_order': 15}, Validation MAPE: 94.482619\n"
     ]
    },
    {
     "name": "stderr",
     "output_type": "stream",
     "text": [
      "02:01:57 - cmdstanpy - INFO - Chain [1] done processing\n",
      "02:01:57 - cmdstanpy - INFO - Chain [1] start processing\n"
     ]
    },
    {
     "name": "stdout",
     "output_type": "stream",
     "text": [
      "Tried {'changepoint_prior_scale': 0.5, 'seasonality_mode': 'additive', 'fourier_order': 5}, Validation MAPE: 61.428465\n"
     ]
    },
    {
     "name": "stderr",
     "output_type": "stream",
     "text": [
      "02:01:57 - cmdstanpy - INFO - Chain [1] done processing\n",
      "02:01:57 - cmdstanpy - INFO - Chain [1] start processing\n"
     ]
    },
    {
     "name": "stdout",
     "output_type": "stream",
     "text": [
      "Tried {'changepoint_prior_scale': 0.5, 'seasonality_mode': 'additive', 'fourier_order': 10}, Validation MAPE: 100.000000\n"
     ]
    },
    {
     "name": "stderr",
     "output_type": "stream",
     "text": [
      "02:01:58 - cmdstanpy - INFO - Chain [1] done processing\n",
      "02:01:58 - cmdstanpy - INFO - Chain [1] start processing\n"
     ]
    },
    {
     "name": "stdout",
     "output_type": "stream",
     "text": [
      "Tried {'changepoint_prior_scale': 0.5, 'seasonality_mode': 'additive', 'fourier_order': 15}, Validation MAPE: 94.363298\n"
     ]
    },
    {
     "name": "stderr",
     "output_type": "stream",
     "text": [
      "02:01:59 - cmdstanpy - INFO - Chain [1] done processing\n",
      "02:01:59 - cmdstanpy - INFO - Chain [1] start processing\n"
     ]
    },
    {
     "name": "stdout",
     "output_type": "stream",
     "text": [
      "Tried {'changepoint_prior_scale': 0.5, 'seasonality_mode': 'multiplicative', 'fourier_order': 5}, Validation MAPE: 98.501700\n"
     ]
    },
    {
     "name": "stderr",
     "output_type": "stream",
     "text": [
      "02:01:59 - cmdstanpy - INFO - Chain [1] done processing\n",
      "02:01:59 - cmdstanpy - INFO - Chain [1] start processing\n"
     ]
    },
    {
     "name": "stdout",
     "output_type": "stream",
     "text": [
      "Tried {'changepoint_prior_scale': 0.5, 'seasonality_mode': 'multiplicative', 'fourier_order': 10}, Validation MAPE: 90.986693\n"
     ]
    },
    {
     "name": "stderr",
     "output_type": "stream",
     "text": [
      "02:02:01 - cmdstanpy - INFO - Chain [1] done processing\n",
      "02:02:01 - cmdstanpy - INFO - Chain [1] start processing\n",
      "02:02:01 - cmdstanpy - INFO - Chain [1] done processing\n"
     ]
    },
    {
     "name": "stdout",
     "output_type": "stream",
     "text": [
      "Tried {'changepoint_prior_scale': 0.5, 'seasonality_mode': 'multiplicative', 'fourier_order': 15}, Validation MAPE: 85.260110\n",
      "\n",
      "Best Parameters Found (from validation set):\n",
      "params    {'changepoint_prior_scale': 0.01, 'seasonality...\n",
      "MAPE                                              61.405428\n",
      "Name: 3, dtype: object\n",
      "{'changepoint_prior_scale': 0.01, 'seasonality_mode': 'multiplicative', 'fourier_order': 5}\n"
     ]
    }
   ],
   "source": [
    "df = pd.read_csv('cluster_1.csv')\n",
    "df['InvoiceDate'] = pd.to_datetime(df['InvoiceDate'])\n",
    "df['Revenue'] = df['Quantity'] * df['Price']\n",
    "\n",
    "df.set_index('InvoiceDate', inplace=True)\n",
    "weekly_data = df['Revenue'].resample('W-MON').sum().reset_index()\n",
    "weekly_data = weekly_data.rename(columns={'InvoiceDate': 'ds', 'Revenue': 'y'})\n",
    "weekly_data = weekly_data.dropna(subset=['y']).sort_values('ds')\n",
    "\n",
    "total_weeks = (weekly_data['ds'].max() - weekly_data['ds'].min()).days // 7\n",
    "test_weeks = int(total_weeks * 0.20)\n",
    "val_weeks = int(total_weeks * 0.20)\n",
    "\n",
    "cutoff_test = weekly_data['ds'].max() - pd.Timedelta(weeks=test_weeks)\n",
    "cutoff_val = cutoff_test - pd.Timedelta(weeks=val_weeks)\n",
    "\n",
    "train_data = weekly_data[weekly_data['ds'] < cutoff_val].copy()\n",
    "val_data = weekly_data[(weekly_data['ds'] >= cutoff_val) & (weekly_data['ds'] < cutoff_test)].copy()\n",
    "test_data = weekly_data[weekly_data['ds'] >= cutoff_test].copy()\n",
    "\n",
    "param_grid = {\n",
    "    'changepoint_prior_scale': [0.01, 0.1, 0.5],\n",
    "    'seasonality_mode': ['additive', 'multiplicative'],\n",
    "    'fourier_order': [5, 10, 15]\n",
    "}\n",
    "\n",
    "grid = list(product(*param_grid.values()))\n",
    "param_names = list(param_grid.keys())\n",
    "results_list = []\n",
    "\n",
    "for params in grid:\n",
    "    param_dict = dict(zip(param_names, params))\n",
    "    try:\n",
    "        m = Prophet(\n",
    "            yearly_seasonality=True,\n",
    "            weekly_seasonality=True,\n",
    "            daily_seasonality=False,\n",
    "            changepoint_prior_scale=param_dict['changepoint_prior_scale'],\n",
    "            seasonality_mode=param_dict['seasonality_mode']\n",
    "        )\n",
    "        m.add_seasonality(name='monthly', period=30.5, fourier_order=param_dict['fourier_order'])\n",
    "        m.fit(train_data)\n",
    "\n",
    "        future = m.make_future_dataframe(periods=val_weeks, freq='W-MON')\n",
    "        forecast = m.predict(future)\n",
    "\n",
    "        val_forecast = forecast[forecast['ds'] >= cutoff_val][['ds', 'yhat']].copy()\n",
    "        val_forecast['ds'] = pd.to_datetime(val_forecast['ds'])\n",
    "        val_data['ds'] = pd.to_datetime(val_data['ds'])\n",
    "\n",
    "        merged = val_data.merge(val_forecast, on='ds', how='left')\n",
    "        safe_y = merged['y'].replace(0, 1e-10)\n",
    "        merged['ape'] = 100 * np.abs((merged['y'] - merged['yhat']) / safe_y)\n",
    "        merged['ape'] = merged['ape'].replace([np.inf, -np.inf], np.nan).fillna(0).clip(upper=100)\n",
    "\n",
    "        mape_val = merged['ape'].mean()\n",
    "        results_list.append({'params': param_dict, 'MAPE': mape_val})\n",
    "        print(f\"Tried {param_dict}, Validation MAPE: {mape_val:.6f}\")\n",
    "\n",
    "    except Exception as e:\n",
    "        print(f\"Error with params {param_dict}: {e}\")\n",
    "\n",
    "results_df = pd.DataFrame(results_list)\n",
    "best_result1 = results_df.loc[results_df['MAPE'].idxmin()]\n",
    "print(\"\\nBest Parameters Found (from validation set):\")\n",
    "print(best_result1)\n",
    "print(best_result1['params'])\n",
    "\n",
    "best_params = best_result1['params']\n",
    "full_train = weekly_data[weekly_data['ds'] < cutoff_test].copy()\n",
    "\n",
    "m = Prophet(\n",
    "    yearly_seasonality=True,\n",
    "    weekly_seasonality=True,\n",
    "    daily_seasonality=False,\n",
    "    changepoint_prior_scale=best_params['changepoint_prior_scale'],\n",
    "    seasonality_mode=best_params['seasonality_mode']\n",
    ")\n",
    "m.add_seasonality(name='monthly', period=30.5, fourier_order=best_params['fourier_order'])\n",
    "m.fit(full_train)\n",
    "\n",
    "test_weeks = (test_data['ds'].max() - test_data['ds'].min()).days // 7 + 1\n",
    "future = m.make_future_dataframe(periods=test_weeks, freq='W-MON')\n",
    "future = future[future['ds'] <= test_data['ds'].max()]\n",
    "forecast = m.predict(future)"
   ]
  },
  {
   "cell_type": "code",
   "execution_count": 39,
   "id": "7fca3e11",
   "metadata": {},
   "outputs": [
    {
     "name": "stdout",
     "output_type": "stream",
     "text": [
      "\n",
      "--- Final Test Set Evaluation ---\n",
      "MAPE: 29.2158\n",
      "MAE : 6348.1344\n",
      "RMSE: 7419.8893\n"
     ]
    }
   ],
   "source": [
    "forecast['ds'] = pd.to_datetime(forecast['ds'])\n",
    "test_data['ds'] = pd.to_datetime(test_data['ds'])\n",
    "predictions = forecast[forecast['ds'].isin(test_data['ds'])].copy()\n",
    "predictions = predictions.sort_values('ds')\n",
    "\n",
    "test_eval = test_data.merge(predictions[['ds', 'yhat']], on='ds', how='left')\n",
    "safe_y = test_eval['y'].replace(0, 1e-10)\n",
    "test_eval['ape'] = 100 * np.abs((test_eval['y'] - test_eval['yhat']) / safe_y)\n",
    "test_eval['ape'] = test_eval['ape'].replace([np.inf, -np.inf], np.nan).fillna(0)\n",
    "\n",
    "mape_test = test_eval['ape'].mean()\n",
    "mae_test = np.mean(np.abs(test_eval['y'] - test_eval['yhat']))\n",
    "rmse_test = np.sqrt(np.mean((test_eval['y'] - test_eval['yhat'])**2))\n",
    "\n",
    "print(\"\\n--- Final Test Set Evaluation ---\")\n",
    "print(f\"MAPE: {mape_test:.4f}\")\n",
    "print(f\"MAE : {mae_test:.4f}\")\n",
    "print(f\"RMSE: {rmse_test:.4f}\")"
   ]
  },
  {
   "cell_type": "markdown",
   "id": "fe911f99",
   "metadata": {},
   "source": [
    "### Cluster 2"
   ]
  },
  {
   "cell_type": "code",
   "execution_count": 41,
   "id": "e4e9c548",
   "metadata": {},
   "outputs": [
    {
     "name": "stderr",
     "output_type": "stream",
     "text": [
      "02:03:02 - cmdstanpy - INFO - Chain [1] start processing\n",
      "02:03:02 - cmdstanpy - INFO - Chain [1] done processing\n",
      "02:03:02 - cmdstanpy - INFO - Chain [1] start processing\n",
      "02:03:02 - cmdstanpy - INFO - Chain [1] done processing\n"
     ]
    },
    {
     "name": "stdout",
     "output_type": "stream",
     "text": [
      "Tried {'changepoint_prior_scale': 0.01, 'seasonality_mode': 'additive', 'fourier_order': 5}, Validation MAPE: 67.479175\n",
      "Tried {'changepoint_prior_scale': 0.01, 'seasonality_mode': 'additive', 'fourier_order': 10}, Validation MAPE: 100.000000\n"
     ]
    },
    {
     "name": "stderr",
     "output_type": "stream",
     "text": [
      "02:03:02 - cmdstanpy - INFO - Chain [1] start processing\n",
      "02:03:02 - cmdstanpy - INFO - Chain [1] done processing\n",
      "02:03:02 - cmdstanpy - INFO - Chain [1] start processing\n",
      "02:03:03 - cmdstanpy - INFO - Chain [1] done processing\n",
      "02:03:03 - cmdstanpy - INFO - Chain [1] start processing\n"
     ]
    },
    {
     "name": "stdout",
     "output_type": "stream",
     "text": [
      "Tried {'changepoint_prior_scale': 0.01, 'seasonality_mode': 'additive', 'fourier_order': 15}, Validation MAPE: 100.000000\n",
      "Tried {'changepoint_prior_scale': 0.01, 'seasonality_mode': 'multiplicative', 'fourier_order': 5}, Validation MAPE: 64.789761\n"
     ]
    },
    {
     "name": "stderr",
     "output_type": "stream",
     "text": [
      "02:03:03 - cmdstanpy - INFO - Chain [1] done processing\n",
      "02:03:03 - cmdstanpy - INFO - Chain [1] start processing\n"
     ]
    },
    {
     "name": "stdout",
     "output_type": "stream",
     "text": [
      "Tried {'changepoint_prior_scale': 0.01, 'seasonality_mode': 'multiplicative', 'fourier_order': 10}, Validation MAPE: 100.000000\n"
     ]
    },
    {
     "name": "stderr",
     "output_type": "stream",
     "text": [
      "02:03:06 - cmdstanpy - INFO - Chain [1] done processing\n",
      "02:03:06 - cmdstanpy - INFO - Chain [1] start processing\n"
     ]
    },
    {
     "name": "stdout",
     "output_type": "stream",
     "text": [
      "Tried {'changepoint_prior_scale': 0.01, 'seasonality_mode': 'multiplicative', 'fourier_order': 15}, Validation MAPE: 96.113328\n"
     ]
    },
    {
     "name": "stderr",
     "output_type": "stream",
     "text": [
      "02:03:07 - cmdstanpy - INFO - Chain [1] done processing\n",
      "02:03:07 - cmdstanpy - INFO - Chain [1] start processing\n",
      "02:03:07 - cmdstanpy - INFO - Chain [1] done processing\n",
      "02:03:07 - cmdstanpy - INFO - Chain [1] start processing\n"
     ]
    },
    {
     "name": "stdout",
     "output_type": "stream",
     "text": [
      "Tried {'changepoint_prior_scale': 0.1, 'seasonality_mode': 'additive', 'fourier_order': 5}, Validation MAPE: 67.527965\n",
      "Tried {'changepoint_prior_scale': 0.1, 'seasonality_mode': 'additive', 'fourier_order': 10}, Validation MAPE: 100.000000\n"
     ]
    },
    {
     "name": "stderr",
     "output_type": "stream",
     "text": [
      "02:03:07 - cmdstanpy - INFO - Chain [1] done processing\n",
      "02:03:07 - cmdstanpy - INFO - Chain [1] start processing\n",
      "02:03:07 - cmdstanpy - INFO - Chain [1] done processing\n",
      "02:03:07 - cmdstanpy - INFO - Chain [1] start processing\n"
     ]
    },
    {
     "name": "stdout",
     "output_type": "stream",
     "text": [
      "Tried {'changepoint_prior_scale': 0.1, 'seasonality_mode': 'additive', 'fourier_order': 15}, Validation MAPE: 100.000000\n",
      "Tried {'changepoint_prior_scale': 0.1, 'seasonality_mode': 'multiplicative', 'fourier_order': 5}, Validation MAPE: 66.119888\n"
     ]
    },
    {
     "name": "stderr",
     "output_type": "stream",
     "text": [
      "02:03:08 - cmdstanpy - INFO - Chain [1] done processing\n",
      "02:03:08 - cmdstanpy - INFO - Chain [1] start processing\n"
     ]
    },
    {
     "name": "stdout",
     "output_type": "stream",
     "text": [
      "Tried {'changepoint_prior_scale': 0.1, 'seasonality_mode': 'multiplicative', 'fourier_order': 10}, Validation MAPE: 100.000000\n"
     ]
    },
    {
     "name": "stderr",
     "output_type": "stream",
     "text": [
      "02:03:09 - cmdstanpy - INFO - Chain [1] done processing\n",
      "02:03:09 - cmdstanpy - INFO - Chain [1] start processing\n"
     ]
    },
    {
     "name": "stdout",
     "output_type": "stream",
     "text": [
      "Tried {'changepoint_prior_scale': 0.1, 'seasonality_mode': 'multiplicative', 'fourier_order': 15}, Validation MAPE: 100.000000\n"
     ]
    },
    {
     "name": "stderr",
     "output_type": "stream",
     "text": [
      "02:03:09 - cmdstanpy - INFO - Chain [1] done processing\n",
      "02:03:09 - cmdstanpy - INFO - Chain [1] start processing\n"
     ]
    },
    {
     "name": "stdout",
     "output_type": "stream",
     "text": [
      "Tried {'changepoint_prior_scale': 0.5, 'seasonality_mode': 'additive', 'fourier_order': 5}, Validation MAPE: 67.480750\n"
     ]
    },
    {
     "name": "stderr",
     "output_type": "stream",
     "text": [
      "02:03:10 - cmdstanpy - INFO - Chain [1] done processing\n",
      "02:03:10 - cmdstanpy - INFO - Chain [1] start processing\n"
     ]
    },
    {
     "name": "stdout",
     "output_type": "stream",
     "text": [
      "Tried {'changepoint_prior_scale': 0.5, 'seasonality_mode': 'additive', 'fourier_order': 10}, Validation MAPE: 100.000000\n"
     ]
    },
    {
     "name": "stderr",
     "output_type": "stream",
     "text": [
      "02:03:10 - cmdstanpy - INFO - Chain [1] done processing\n",
      "02:03:10 - cmdstanpy - INFO - Chain [1] start processing\n"
     ]
    },
    {
     "name": "stdout",
     "output_type": "stream",
     "text": [
      "Tried {'changepoint_prior_scale': 0.5, 'seasonality_mode': 'additive', 'fourier_order': 15}, Validation MAPE: 100.000000\n"
     ]
    },
    {
     "name": "stderr",
     "output_type": "stream",
     "text": [
      "02:03:11 - cmdstanpy - INFO - Chain [1] done processing\n",
      "02:03:11 - cmdstanpy - INFO - Chain [1] start processing\n"
     ]
    },
    {
     "name": "stdout",
     "output_type": "stream",
     "text": [
      "Tried {'changepoint_prior_scale': 0.5, 'seasonality_mode': 'multiplicative', 'fourier_order': 5}, Validation MAPE: 82.799639\n"
     ]
    },
    {
     "name": "stderr",
     "output_type": "stream",
     "text": [
      "02:03:12 - cmdstanpy - INFO - Chain [1] done processing\n",
      "02:03:12 - cmdstanpy - INFO - Chain [1] start processing\n"
     ]
    },
    {
     "name": "stdout",
     "output_type": "stream",
     "text": [
      "Tried {'changepoint_prior_scale': 0.5, 'seasonality_mode': 'multiplicative', 'fourier_order': 10}, Validation MAPE: 100.000000\n"
     ]
    },
    {
     "name": "stderr",
     "output_type": "stream",
     "text": [
      "02:03:14 - cmdstanpy - INFO - Chain [1] done processing\n",
      "02:03:14 - cmdstanpy - INFO - Chain [1] start processing\n",
      "02:03:14 - cmdstanpy - INFO - Chain [1] done processing\n"
     ]
    },
    {
     "name": "stdout",
     "output_type": "stream",
     "text": [
      "Tried {'changepoint_prior_scale': 0.5, 'seasonality_mode': 'multiplicative', 'fourier_order': 15}, Validation MAPE: 100.000000\n",
      "\n",
      "Best Parameters Found (from validation set):\n",
      "params    {'changepoint_prior_scale': 0.01, 'seasonality...\n",
      "MAPE                                              64.789761\n",
      "Name: 3, dtype: object\n",
      "{'changepoint_prior_scale': 0.01, 'seasonality_mode': 'multiplicative', 'fourier_order': 5}\n"
     ]
    }
   ],
   "source": [
    "df = pd.read_csv('cluster_2.csv')\n",
    "df['InvoiceDate'] = pd.to_datetime(df['InvoiceDate'])\n",
    "df['Revenue'] = df['Quantity'] * df['Price']\n",
    "\n",
    "df.set_index('InvoiceDate', inplace=True)\n",
    "weekly_data = df['Revenue'].resample('W-MON').sum().reset_index()\n",
    "weekly_data = weekly_data.rename(columns={'InvoiceDate': 'ds', 'Revenue': 'y'})\n",
    "weekly_data = weekly_data.dropna(subset=['y']).sort_values('ds')\n",
    "\n",
    "total_weeks = (weekly_data['ds'].max() - weekly_data['ds'].min()).days // 7\n",
    "test_weeks = int(total_weeks * 0.20)\n",
    "val_weeks = int(total_weeks * 0.20)\n",
    "\n",
    "cutoff_test = weekly_data['ds'].max() - pd.Timedelta(weeks=test_weeks)\n",
    "cutoff_val = cutoff_test - pd.Timedelta(weeks=val_weeks)\n",
    "\n",
    "train_data = weekly_data[weekly_data['ds'] < cutoff_val].copy()\n",
    "val_data = weekly_data[(weekly_data['ds'] >= cutoff_val) & (weekly_data['ds'] < cutoff_test)].copy()\n",
    "test_data = weekly_data[weekly_data['ds'] >= cutoff_test].copy()\n",
    "\n",
    "param_grid = {\n",
    "    'changepoint_prior_scale': [0.01, 0.1, 0.5],\n",
    "    'seasonality_mode': ['additive', 'multiplicative'],\n",
    "    'fourier_order': [5, 10, 15]\n",
    "}\n",
    "\n",
    "grid = list(product(*param_grid.values()))\n",
    "param_names = list(param_grid.keys())\n",
    "results_list = []\n",
    "\n",
    "for params in grid:\n",
    "    param_dict = dict(zip(param_names, params))\n",
    "    try:\n",
    "        m = Prophet(\n",
    "            yearly_seasonality=True,\n",
    "            weekly_seasonality=True,\n",
    "            daily_seasonality=False,\n",
    "            changepoint_prior_scale=param_dict['changepoint_prior_scale'],\n",
    "            seasonality_mode=param_dict['seasonality_mode']\n",
    "        )\n",
    "        m.add_seasonality(name='monthly', period=30.5, fourier_order=param_dict['fourier_order'])\n",
    "        m.fit(train_data)\n",
    "\n",
    "        future = m.make_future_dataframe(periods=val_weeks, freq='W-MON')\n",
    "        forecast = m.predict(future)\n",
    "\n",
    "        val_forecast = forecast[forecast['ds'] >= cutoff_val][['ds', 'yhat']].copy()\n",
    "        val_forecast['ds'] = pd.to_datetime(val_forecast['ds'])\n",
    "        val_data['ds'] = pd.to_datetime(val_data['ds'])\n",
    "\n",
    "        merged = val_data.merge(val_forecast, on='ds', how='left')\n",
    "        safe_y = merged['y'].replace(0, 1e-10)\n",
    "        merged['ape'] = 100 * np.abs((merged['y'] - merged['yhat']) / safe_y)\n",
    "        merged['ape'] = merged['ape'].replace([np.inf, -np.inf], np.nan).fillna(0).clip(upper=100)\n",
    "\n",
    "        mape_val = merged['ape'].mean()\n",
    "        results_list.append({'params': param_dict, 'MAPE': mape_val})\n",
    "        print(f\"Tried {param_dict}, Validation MAPE: {mape_val:.6f}\")\n",
    "\n",
    "    except Exception as e:\n",
    "        print(f\"Error with params {param_dict}: {e}\")\n",
    "\n",
    "results_df = pd.DataFrame(results_list)\n",
    "best_result2 = results_df.loc[results_df['MAPE'].idxmin()]\n",
    "print(\"\\nBest Parameters Found (from validation set):\")\n",
    "print(best_result2)\n",
    "print(best_result2['params'])\n",
    "\n",
    "best_params = best_result2['params']\n",
    "full_train = weekly_data[weekly_data['ds'] < cutoff_test].copy()\n",
    "\n",
    "m = Prophet(\n",
    "    yearly_seasonality=True,\n",
    "    weekly_seasonality=True,\n",
    "    daily_seasonality=False,\n",
    "    changepoint_prior_scale=best_params['changepoint_prior_scale'],\n",
    "    seasonality_mode=best_params['seasonality_mode']\n",
    ")\n",
    "m.add_seasonality(name='monthly', period=30.5, fourier_order=best_params['fourier_order'])\n",
    "m.fit(full_train)\n",
    "\n",
    "test_weeks = (test_data['ds'].max() - test_data['ds'].min()).days // 7 + 1\n",
    "future = m.make_future_dataframe(periods=test_weeks, freq='W-MON')\n",
    "future = future[future['ds'] <= test_data['ds'].max()]\n",
    "forecast = m.predict(future)"
   ]
  },
  {
   "cell_type": "code",
   "execution_count": 23,
   "id": "038fc73f",
   "metadata": {},
   "outputs": [
    {
     "name": "stdout",
     "output_type": "stream",
     "text": [
      "\n",
      "--- Final Test Set Evaluation ---\n",
      "MAPE: 32.5917\n",
      "MAE : 6178.3178\n",
      "RMSE: 8393.4988\n"
     ]
    },
    {
     "data": {
      "image/png": "[encoded data removed]",
      "text/plain": [
       "<Figure size 1200x600 with 1 Axes>"
      ]
     },
     "metadata": {},
     "output_type": "display_data"
    }
   ],
   "source": [
    "forecast['ds'] = pd.to_datetime(forecast['ds'])\n",
    "test_data['ds'] = pd.to_datetime(test_data['ds'])\n",
    "predictions = forecast[forecast['ds'].isin(test_data['ds'])].copy()\n",
    "predictions = predictions.sort_values('ds')\n",
    "\n",
    "test_eval = test_data.merge(predictions[['ds', 'yhat']], on='ds', how='left')\n",
    "safe_y = test_eval['y'].replace(0, 1e-10)\n",
    "test_eval['ape'] = 100 * np.abs((test_eval['y'] - test_eval['yhat']) / safe_y)\n",
    "test_eval['ape'] = test_eval['ape'].replace([np.inf, -np.inf], np.nan).fillna(0)\n",
    "\n",
    "mape_test = test_eval['ape'].mean()\n",
    "mae_test = np.mean(np.abs(test_eval['y'] - test_eval['yhat']))\n",
    "rmse_test = np.sqrt(np.mean((test_eval['y'] - test_eval['yhat'])**2))\n",
    "\n",
    "print(\"\\n--- Final Test Set Evaluation ---\")\n",
    "print(f\"MAPE: {mape_test:.4f}\")\n",
    "print(f\"MAE : {mae_test:.4f}\")\n",
    "print(f\"RMSE: {rmse_test:.4f}\")\n",
    "\n",
    "plt.figure(figsize=(12, 6))\n",
    "plt.plot(test_eval['ds'], test_eval['y'], 'r-', label='Actual Weekly Revenue')\n",
    "plt.plot(test_eval['ds'], test_eval['yhat'], 'k--', label='Prophet Forecast')\n",
    "\n",
    "plt.title(f'Prophet Forecast vs Actual - Weekly Test Set (MAPE: {mape_test:.2f}%)')\n",
    "plt.xlabel('Week')\n",
    "plt.ylabel('Weekly Sales Value')\n",
    "plt.legend()\n",
    "plt.grid(True, alpha=0.3)\n",
    "plt.tight_layout()\n",
    "plt.show()\n"
   ]
  }
 ],
 "metadata": {
  "kernelspec": {
   "display_name": "base",
   "language": "python",
   "name": "python3"
  },
  "language_info": {
   "codemirror_mode": {
    "name": "ipython",
    "version": 3
   },
   "file_extension": ".py",
   "mimetype": "text/x-python",
   "name": "python",
   "nbconvert_exporter": "python",
   "pygments_lexer": "ipython3",
   "version": "3.12.2"
  }
 },
 "nbformat": 4,
 "nbformat_minor": 5
}
